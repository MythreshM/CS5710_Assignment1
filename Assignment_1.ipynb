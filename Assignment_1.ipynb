{
 "cells": [
  {
   "cell_type": "markdown",
   "metadata": {},
   "source": [
    "#    Question 1"
   ]
  },
  {
   "cell_type": "code",
   "execution_count": 1,
   "metadata": {},
   "outputs": [
    {
     "name": "stdout",
     "output_type": "stream",
     "text": [
      "The list after sorting is [19, 19, 20, 22, 24, 24, 24, 25, 25, 26]\n",
      "The minimum age in the list is 19\n",
      "The maximum age in the list is 26\n",
      "The median of the given list of ages is 24\n",
      "The average value of all ages is  22.75\n",
      "The range of ages given in list is 7\n"
     ]
    }
   ],
   "source": [
    "ages = [19, 22, 19, 24, 20, 25, 26, 24, 25, 24]\n",
    "# sort function sorts the value in ascending order\n",
    "ages.sort()\n",
    "print(\"The list after sorting is\",ages)\n",
    "#zeroth index have minimum value and maximum at end of list\n",
    "minimum_age,maximum_age=ages[0],ages[len(ages)-1]\n",
    "print(\"The minimum age in the list is\",minimum_age)\n",
    "print(\"The maximum age in the list is\",maximum_age)\n",
    "#add the minimum age using append method\n",
    "ages.append(minimum_age)\n",
    "ages.append(maximum_age)\n",
    "#To get median we need sort first\n",
    "ages=sorted(ages)\n",
    "# since we have len of ages is even we need to divide the middle two values to obtain median\n",
    "median=(ages[len(ages)//2]+ages[len(ages)//2 -1])//2\n",
    "print(\"The median of the given list of ages is\", median)\n",
    "average=sum(ages)/(len(ages))\n",
    "print(\"The average value of all ages is \",average)\n",
    "# we can use min and max function to obtain min of list and max of list\n",
    "range_age=max(ages)-min(ages)\n",
    "print(\"The range of ages given in list is\", range_age)"
   ]
  },
  {
   "cell_type": "markdown",
   "metadata": {},
   "source": [
    "# Question 2"
   ]
  },
  {
   "cell_type": "code",
   "execution_count": 2,
   "metadata": {},
   "outputs": [
    {
     "name": "stdout",
     "output_type": "stream",
     "text": [
      "The length of student dictionary is 9\n",
      "The value of skills key is ['Communication skills', 'presentation skills']\n",
      "The datatype of skills value is list: True\n",
      "The student dictionary contains: {'first_name': 'Rajesh', 'last_name': 'Nalla', 'gender': 'male', 'age': 22, 'marital_status': 'Single', 'skills': ['Communication skills', 'presentation skills', 'Essay Writing', 'MS'], 'country': 'India', 'city': 'Chennai', 'address': 'RSM Nagar, Gummidipoondi, Taluk, Kavaraipettai, Tamil Nadu 601206, India'}\n",
      "The keys of dog dictionary is ['name', 'color', 'breed', 'legs', 'age']\n",
      "The values of dog dictionary is ['Snoopy', 'Black', 'German Shepherd', 4, 5]\n"
     ]
    }
   ],
   "source": [
    "#creating a dog dictionary\n",
    "dog={}\n",
    "dog[\"name\"]=\"Snoopy\"\n",
    "dog[\"color\"]=\"Black\"\n",
    "dog[\"breed\"]=\"German Shepherd\"\n",
    "dog[\"legs\"]=4\n",
    "dog[\"age\"]=5\n",
    "student={\"first_name\":\"Rajesh\",\"last_name\":\"Nalla\", \"gender\":\"male\",\"age\":22,\"marital_status\":\"Single\",\"skills\":[\"Communication skills\",\"presentation skills\"],\"country\":\"India\",\"city\":\"Chennai\",\"address\":\"RSM Nagar, Gummidipoondi, Taluk, Kavaraipettai, Tamil Nadu 601206, India\"}\n",
    "# len method is used to find length of an dictionary\n",
    "print(\"The length of student dictionary is\",len(student))\n",
    "print(\"The value of skills key is\",student[\"skills\"])\n",
    "print(\"The datatype of skills value is list:\", type(student[\"skills\"]) is list)\n",
    "student[\"skills\"].append(\"Essay Writing\")\n",
    "student[\"skills\"].append(\"MS\")\n",
    "print(\"The student dictionary contains:\",student)\n",
    "#printing keys and value of dog dictionary as list\n",
    "print(\"The keys of dog dictionary is\",list(dog.keys()))\n",
    "print(\"The values of dog dictionary is\",list(dog.values()))"
   ]
  },
  {
   "cell_type": "markdown",
   "metadata": {},
   "source": [
    "# Question 3"
   ]
  },
  {
   "cell_type": "code",
   "execution_count": 3,
   "metadata": {},
   "outputs": [
    {
     "name": "stdout",
     "output_type": "stream",
     "text": [
      "The names of brothers are ('Arun', 'Sam')\n",
      "The name of sister is ('Meghana',)\n",
      "The siblings are: ('Arun', 'Sam', 'Meghana')\n",
      "The number of siblings I have are: 3\n",
      "The names of the siblings after changing name is  ('Arun', 'Harsha', 'Meghana')\n",
      "The members of the family are  ('Ram', 'Sita', 'Arun', 'Harsha', 'Meghana')\n"
     ]
    }
   ],
   "source": [
    "brothers=tuple()\n",
    "brothers=brothers+(\"Arun\",\"Sam\")\n",
    "print(\"The names of brothers are\",brothers)\n",
    "sisters=(\"Meghana\",)\n",
    "print(\"The name of sister is\",sisters)\n",
    "#add brothers and sisters to siblings using + operator\n",
    "siblings=brothers+sisters\n",
    "print(\"The siblings are:\",siblings)\n",
    "print(\"The number of siblings I have are:\",len(siblings))\n",
    "#Since one of the brother changed his name from Sam to Harsha need to change brothers tuple and siblings tuple\n",
    "modified=[]\n",
    "modified_brother=[]\n",
    "for x in siblings:\n",
    "    if x==\"Sam\":\n",
    "        modified.append(\"Harsha\")\n",
    "    else:\n",
    "        modified.append(x)\n",
    "    if modified[len(modified)-1] not in sisters:\n",
    "        modified_brother.append(modified[len(modified)-1])\n",
    "#assign modified values to siblings    \n",
    "siblings=tuple(modified)\n",
    "brothers=modified_brother\n",
    "print(\"The names of the siblings after changing name is \",siblings)\n",
    "#Assume name of father and mother is Ram and Sita respectively\n",
    "father_name,mother_name=[\"Ram\"],[\"Sita\"]\n",
    "family_members=tuple(father_name)+tuple(mother_name)+siblings\n",
    "print(\"The members of the family are \",family_members)"
   ]
  },
  {
   "cell_type": "markdown",
   "metadata": {},
   "source": [
    "# Question 4"
   ]
  },
  {
   "cell_type": "code",
   "execution_count": 4,
   "metadata": {},
   "outputs": [
    {
     "name": "stdout",
     "output_type": "stream",
     "text": [
      "The length of it companies set is : 7\n",
      "The it_companies set after adding Twitter to it is: {'Twitter', 'Facebook', 'Microsoft', 'IBM', 'Amazon', 'Apple', 'Oracle', 'Google'}\n",
      "The set of it_companies are: {'Wipro', 'Twitter', 'Facebook', 'Kaar Technologies', 'Microsoft', 'IBM', 'Amazon', 'Apple', 'Infosys', 'Oracle', 'Google'}\n",
      "The set after removing Kaar Technologies is: {'Wipro', 'Twitter', 'Facebook', 'Microsoft', 'IBM', 'Amazon', 'Apple', 'Infosys', 'Oracle', 'Google'}\n",
      "\n",
      "Difference between remove and discard\n",
      "    Remove raises keyError if the element not present in set else removes the element.\n",
      "    \n",
      "    whereas\n",
      "    \n",
      "    Discard removes the element but does not raise error even if we are trying to remove the element that is absent.\n",
      "\n",
      "\n",
      "The value of set joining A and B is : {19, 20, 22, 24, 25, 26, 27, 28}\n",
      "The intersection of A and B is {19, 20, 22, 24, 25, 26}\n",
      "Is A subset of B: True\n",
      "Is A and B are disjoint sets: False\n",
      "Joining A and B {19, 20, 22, 24, 25, 26, 27, 28}\n",
      "Joining B and A {19, 20, 22, 24, 25, 26, 27, 28}\n",
      "The symmetric difference of A and B is: {27, 28}\n",
      "The set A after clear method are set() and length is 0\n",
      "The setB after clear method are set() and length is 0\n",
      "The length of ages in list is 8 and the length of ages set is 5.\n"
     ]
    }
   ],
   "source": [
    "it_companies = {'Facebook', 'Google', 'Microsoft', 'Apple', 'IBM', 'Oracle', 'Amazon'}\n",
    "A = {19, 22, 24, 20, 25, 26}\n",
    "B = {19, 22, 20, 25, 26, 24, 28, 27}\n",
    "age = [22, 19, 24, 25, 26, 24, 25, 24]\n",
    "#Length of it_companies set\n",
    "print(\"The length of it companies set is :\",len(it_companies))\n",
    "#Add twitter to it_companies\n",
    "it_companies.add(\"Twitter\")\n",
    "print(\"The it_companies set after adding Twitter to it is:\",it_companies)\n",
    "#insert multiple elements to set once\n",
    "it_companies.update({'Kaar Technologies','Wipro','Infosys'})\n",
    "print(\"The set of it_companies are:\",it_companies)\n",
    "#Removing kaar Technologies from set of it companies\n",
    "it_companies.remove('Kaar Technologies')\n",
    "print(\"The set after removing Kaar Technologies is:\",it_companies)\n",
    "#Difference between remove and discard\n",
    "print('''\\nDifference between remove and discard\n",
    "    Remove raises keyError if the element not present in set else removes the element.\n",
    "    \n",
    "    whereas\n",
    "    \n",
    "    Discard removes the element but does not raise error even if we are trying to remove the element that is absent.\\n\n",
    "''')\n",
    "#Join A and B\n",
    "AB=A.union(B)\n",
    "print(\"The value of set joining A and B is :\",AB)\n",
    "#intersection of A and B\n",
    "print(\"The intersection of A and B is\",A.intersection(B))\n",
    "#Is A subset of B\n",
    "print(\"Is A subset of B:\",A.issubset(B))\n",
    "#Disjoint sets\n",
    "print(\"Is A and B are disjoint sets:\",A.isdisjoint(B))\n",
    "#Join A and B and then B and A\n",
    "print(\"Joining A and B\",A.union(B))\n",
    "print(\"Joining B and A\",B.union(A))\n",
    "#symmetric difference of A and B\n",
    "print(\"The symmetric difference of A and B is:\",A.symmetric_difference(B))\n",
    "#delete set A and B completely using clear method\n",
    "A.clear()\n",
    "B.clear()\n",
    "print(\"The set A after clear method are {} and length is {}\".format(A, len(A)))\n",
    "print(\"The setB after clear method are {} and length is {}\".format(B, len(B)))\n",
    "#Convert ages list to set\n",
    "set_ages=set(age)\n",
    "print(\"The length of ages in list is {} and the length of ages set is {}.\".format(len(age),len(set_ages)))"
   ]
  },
  {
   "cell_type": "markdown",
   "metadata": {},
   "source": [
    "# Question 5"
   ]
  },
  {
   "cell_type": "code",
   "execution_count": 5,
   "metadata": {},
   "outputs": [
    {
     "name": "stdout",
     "output_type": "stream",
     "text": [
      "The area of circle is 2826.0 square meters.\n",
      "The circumference of circle is 188.4 meters.\n",
      "Enter the radius: 20\n",
      "The area of circle for radii 20.0 is 1256.0 square meters.\n"
     ]
    }
   ],
   "source": [
    "radius=30\n",
    "PI=3.14\n",
    "#compute area of circle\n",
    "area_of_circle=PI* radius*radius\n",
    "print(\"The area of circle is {} square meters.\".format(area_of_circle))\n",
    "#compute circumference of circle\n",
    "circum_of_circle=2*PI*radius\n",
    "print(\"The circumference of circle is {} meters.\".format(circum_of_circle))\n",
    "# radius as user input\n",
    "radii=float(input(\"Enter the radius: \"))\n",
    "#compute area\n",
    "print(\"The area of circle for radii {} is {} square meters.\".format(radii,PI*radii*radii))"
   ]
  },
  {
   "cell_type": "markdown",
   "metadata": {},
   "source": [
    "# Question 6"
   ]
  },
  {
   "cell_type": "code",
   "execution_count": 6,
   "metadata": {},
   "outputs": [
    {
     "name": "stdout",
     "output_type": "stream",
     "text": [
      "The number of unique words in the given sentence is : 10\n"
     ]
    }
   ],
   "source": [
    "sentence=\"I am a teacher and I love to inspire and teach people\"\n",
    "# use split and set\n",
    "words_set=set(sentence.split())\n",
    "# length of unique words\n",
    "print(\"The number of unique words in the given sentence is :\",len(words_set))"
   ]
  },
  {
   "cell_type": "markdown",
   "metadata": {},
   "source": [
    "# Question 7"
   ]
  },
  {
   "cell_type": "code",
   "execution_count": 7,
   "metadata": {},
   "outputs": [
    {
     "name": "stdout",
     "output_type": "stream",
     "text": [
      "Name\tAge\tCountry\tCity\n",
      "Asabeneh\t250\tFinland\tHelsinki\n"
     ]
    }
   ],
   "source": [
    "#Here we use \\t escape character to provide space tab between string\n",
    "print(\"Name\",\"Age\",\"Country\",\"City\",sep='\\t')\n",
    "print(\"Asabeneh\",250,\"Finland\",\"Helsinki\",sep='\\t')"
   ]
  },
  {
   "cell_type": "markdown",
   "metadata": {},
   "source": [
    "# Question 8"
   ]
  },
  {
   "cell_type": "code",
   "execution_count": 8,
   "metadata": {},
   "outputs": [
    {
     "name": "stdout",
     "output_type": "stream",
     "text": [
      "The area of a circle with radius 10 is 314 meters square.\n"
     ]
    }
   ],
   "source": [
    "radius = 10\n",
    "area = 3.14 * radius ** 2\n",
    "print(\"The area of a circle with radius {} is {} meters square.\".format(radius,int(area)))"
   ]
  },
  {
   "cell_type": "markdown",
   "metadata": {},
   "source": [
    "# Question 9"
   ]
  },
  {
   "cell_type": "code",
   "execution_count": 9,
   "metadata": {},
   "outputs": [
    {
     "name": "stdout",
     "output_type": "stream",
     "text": [
      "Enter no of students: 4\n",
      "150\n",
      "155\n",
      "145\n",
      "148\n",
      "L1 : [150, 155, 145, 148]\n",
      "Output: [68.0388, 70.30676, 65.77083999999999, 67.131616]\n"
     ]
    }
   ],
   "source": [
    "N=int(input(\"Enter no of students: \"))\n",
    "weight_in_lbs=[int(input()) for i in range(N)]\n",
    "print(\"L1 :\",weight_in_lbs)\n",
    "weight_in_kgs=[weight_in_lbs[i]*0.453592 for i in range(N)]\n",
    "print(\"Output:\",weight_in_kgs)"
   ]
  }
 ],
 "metadata": {
  "kernelspec": {
   "display_name": "Python 3",
   "language": "python",
   "name": "python3"
  },
  "language_info": {
   "codemirror_mode": {
    "name": "ipython",
    "version": 3
   },
   "file_extension": ".py",
   "mimetype": "text/x-python",
   "name": "python",
   "nbconvert_exporter": "python",
   "pygments_lexer": "ipython3",
   "version": "3.8.5"
  }
 },
 "nbformat": 4,
 "nbformat_minor": 4
}
